{
  "nbformat": 4,
  "nbformat_minor": 0,
  "metadata": {
    "colab": {
      "provenance": []
    },
    "kernelspec": {
      "name": "python3",
      "display_name": "Python 3"
    },
    "language_info": {
      "name": "python"
    }
  },
  "cells": [
    {
      "cell_type": "markdown",
      "source": [
        "# Ambiente"
      ],
      "metadata": {
        "id": "Ow726D07rQNA"
      }
    },
    {
      "cell_type": "code",
      "source": [
        "from sklearn.feature_extraction.text import TfidfVectorizer\n",
        "from sklearn.metrics.pairwise import cosine_similarity\n",
        "import re\n",
        "import string\n",
        "import nltk\n",
        "from nltk.corpus import stopwords\n",
        "nltk.download('punkt')\n",
        "nltk.download('stopwords')\n"
      ],
      "metadata": {
        "colab": {
          "base_uri": "https://localhost:8080/"
        },
        "id": "rJB_u0E3n_1M",
        "outputId": "a500b727-94a4-476b-df8a-23cf7133efa1"
      },
      "execution_count": null,
      "outputs": [
        {
          "output_type": "stream",
          "name": "stderr",
          "text": [
            "[nltk_data] Downloading package punkt to /root/nltk_data...\n",
            "[nltk_data]   Package punkt is already up-to-date!\n",
            "[nltk_data] Downloading package stopwords to /root/nltk_data...\n",
            "[nltk_data]   Package stopwords is already up-to-date!\n"
          ]
        },
        {
          "output_type": "execute_result",
          "data": {
            "text/plain": [
              "True"
            ]
          },
          "metadata": {},
          "execution_count": 38
        }
      ]
    },
    {
      "cell_type": "markdown",
      "source": [
        "# Corpus"
      ],
      "metadata": {
        "id": "AT6SRzn2rV4Q"
      }
    },
    {
      "cell_type": "code",
      "source": [
        "with open(\"Crepúsculo.txt\", \"r\", encoding=\"utf-8\") as file:\n",
        "    corpus_text = file.read()\n",
        "\n",
        "# Dividir o livro em sentenças\n",
        "corpus_sentences = re.split(r'(?<!\\w\\.\\w.)(?<![A-Z][a-z]\\.)(?<=\\.|\\?)\\s', corpus_text)\n"
      ],
      "metadata": {
        "id": "e3BspZ60oc0e"
      },
      "execution_count": null,
      "outputs": []
    },
    {
      "cell_type": "code",
      "source": [
        "input_paragraph = \"E então, ela me fez envergar um vestido absolutamente risível - um azul escuro repleto de enfeites e desprovido de alças. Com uma etiqueta francesa que permanecia indecifrável para mim, aquele vestido parecia estar muito mais em sintonia com as passarelas do que com a atmosfera de Forks\""
      ],
      "metadata": {
        "id": "T50E_X0Io_w1"
      },
      "execution_count": null,
      "outputs": []
    },
    {
      "cell_type": "markdown",
      "source": [
        "# Pré-processamento"
      ],
      "metadata": {
        "id": "42OgPYVCrd8R"
      }
    },
    {
      "cell_type": "markdown",
      "source": [
        "Jaccard"
      ],
      "metadata": {
        "id": "Xv4fAfN8xyJQ"
      }
    },
    {
      "cell_type": "code",
      "source": [
        "\n",
        "# Função para calcular o coeficiente de Jaccard entre dois conjuntos\n",
        "def jaccard_similarity(set1, set2):\n",
        "    intersection = len(set1.intersection(set2))\n",
        "    union = len(set1) + len(set2) - intersection\n",
        "    if union == 0:\n",
        "        return 0\n",
        "    return intersection / union\n",
        "\n",
        "\n",
        "# Função para pré-processar e tokenizar o texto\n",
        "def preprocess_and_tokenize(text):\n",
        "    text = text.lower()  # Converter para minúsculas\n",
        "    text = re.sub(r'\\d+', '', text)  # Remover números\n",
        "    text = text.translate(str.maketrans('', '', string.punctuation))  # Remover pontuações\n",
        "    text = text.strip()  # Remover espaços em branco extras\n",
        "    tokens = nltk.word_tokenize(text)  # Tokenização\n",
        "    tokens = [token for token in tokens if token not in stopwords.words('english')]  # Remover stopwords\n",
        "    return set(tokens)\n",
        "\n",
        "# Pré-processamento das sentenças do corpus\n",
        "preprocessed_corpus = [preprocess_and_tokenize(sentence) for sentence in corpus_sentences]\n",
        "\n",
        "# Pré-processamento do parágrafo de entrada\n",
        "preprocessed_input = preprocess_and_tokenize(input_paragraph)\n",
        "\n",
        "# Calcular a similaridade de Jaccard entre o parágrafo de entrada e as sentenças do corpus\n",
        "similarities = [jaccard_similarity(preprocessed_input, sentence) for sentence in preprocessed_corpus]\n",
        "\n",
        "# Organizar os resultados\n",
        "results = [(sentence, similarity) for sentence, similarity in zip(corpus_sentences, similarities) if similarity > 0]\n",
        "\n",
        "# Ordenar os resultados por similaridade\n",
        "results.sort(key=lambda x: x[1], reverse=True)\n",
        "\n",
        "# Selecionar as 100 frases com maior similaridade\n",
        "top_100_results = results[:10]\n",
        "\n",
        "# Imprimir os resultados\n",
        "for sentence, similarity in top_100_results:\n",
        "    print(f\"Frase do livro: {sentence}\\nSimilaridade Jaccard: {similarity}\\n\")\n"
      ],
      "metadata": {
        "colab": {
          "base_uri": "https://localhost:8080/"
        },
        "id": "-hEb1qyWB6wI",
        "outputId": "50646af4-9040-41d6-e8de-296fd1ba7fad"
      },
      "execution_count": null,
      "outputs": [
        {
          "output_type": "stream",
          "name": "stdout",
          "text": [
            "Frase do livro: Então ela me vestiu com um vestido ridículo - azul escuro, cheio de detalhes e sem os ombros,\n",
            "com uma etiqueta francesa que eu não consegui ler, um vestido que combinava mais com uma\n",
            "passarela do que com Forks.\n",
            "Similaridade Jaccard: 0.3125\n",
            "\n",
            "Frase do livro:       Ela sorriu para mim e desejou, como Charlie, que eu gostasse de Forks.\n",
            "Similaridade Jaccard: 0.17073170731707318\n",
            "\n",
            "Frase do livro: Eu tentei me vestir para o clima mais ameno com uma blusa com um\n",
            "decote em formato de V - algo que eu usava no inverno em Phoenix.\n",
            "Similaridade Jaccard: 0.16666666666666666\n",
            "\n",
            "Frase do livro:       Port Angeles era uma linda armadilha para turistas, muito mais educada e pitoresca do que\n",
            "Forks.\n",
            "Similaridade Jaccard: 0.16279069767441862\n",
            "\n",
            "Frase do livro: Eu encontrei uma pedra que\n",
            "parecia muito estável perto de uma das piscinas maiores e me sentei lá cuidadosamente,\n",
            "encantada com o aquário natural abaixo de mim.\n",
            "Similaridade Jaccard: 0.16\n",
            "\n",
            "Frase do livro: Ele era muito mais alto do que tinha imaginado, e de costas para mim ele se foi\n",
            "fluidamente.\n",
            "Similaridade Jaccard: 0.1590909090909091\n",
            "\n",
            "Frase do livro:        Enquanto eu os analisava, o mais novo, um dos Cullens, olhou para mim e nossos olhos se\n",
            "encontraram, dessa vez com uma expressão evidente de curiosidade.\n",
            "Similaridade Jaccard: 0.15384615384615385\n",
            "\n",
            "Frase do livro: Enquanto eu olhava a garota mais baixa\n",
            "levantou com a bandeja - o refrigerante fechado, a maçã inteira - e foi embora com um passo\n",
            "rápido e gracioso que deveria estar em uma passarela.\n",
            "Similaridade Jaccard: 0.1509433962264151\n",
            "\n",
            "Frase do livro: Ele parecia estar mais\n",
            "preocupado em se convencer disso do que a mim.\n",
            "Similaridade Jaccard: 0.15\n",
            "\n",
            "Frase do livro: CONVITE\n",
            "\n",
            "       No meu sonho estava muito escuro, e a pouco luz que havia lá parecia estar vindo da pele\n",
            "de Edward.\n",
            "Similaridade Jaccard: 0.14893617021276595\n",
            "\n"
          ]
        }
      ]
    },
    {
      "cell_type": "code",
      "source": [
        "def contar_frases(texto):\n",
        "    # Substituir caracteres especiais que podem ser usados como pontos finais\n",
        "    texto = texto.replace(\"...\", \".\")\n",
        "    texto = texto.replace(\"!\", \".\")\n",
        "    texto = texto.replace(\"?\", \".\")\n",
        "\n",
        "    # Dividir o texto em frases usando o ponto como separador\n",
        "    frases = texto.split(\".\")\n",
        "\n",
        "    # Remover frases vazias resultantes da divisão\n",
        "    frases = [frase.strip() for frase in frases if len(frase.strip()) > 0]\n",
        "\n",
        "    return len(frases)\n",
        "\n",
        "# Ler o conteúdo do livro a partir de um arquivo\n",
        "caminho_arquivo = \"Crepúsculo.txt\"\n",
        "with open(caminho_arquivo, \"r\", encoding=\"utf-8\") as arquivo:\n",
        "    conteudo_livro = arquivo.read()\n",
        "\n",
        "numero_frases = contar_frases(conteudo_livro)\n",
        "print(\"O livro tem aproximadamente\", numero_frases, \"frases.\")\n"
      ],
      "metadata": {
        "id": "oBOfxjOTWWn4",
        "outputId": "1c1cb6e5-678f-4489-dbd5-e380a95db5a2",
        "colab": {
          "base_uri": "https://localhost:8080/"
        }
      },
      "execution_count": null,
      "outputs": [
        {
          "output_type": "stream",
          "name": "stdout",
          "text": [
            "O livro tem aproximadamente 12286 frases.\n"
          ]
        }
      ]
    }
  ]
}